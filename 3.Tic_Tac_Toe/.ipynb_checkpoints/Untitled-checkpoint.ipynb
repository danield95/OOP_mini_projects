{
 "cells": [
  {
   "cell_type": "code",
   "execution_count": 12,
   "metadata": {},
   "outputs": [],
   "source": [
    "class TicTacToe():\n",
    "    \n",
    "    def __init__(self, board = [\"\", \"\", \"\", \"\", \"\", \"\", \"\", \"\", \"\"]):\n",
    "        self.board = board\n",
    "        \n",
    "    def draw(self):\n",
    "        print(self.board[0] + '|' + self.board[1], \"|\" + self.board[2])\n",
    "        print(\"-\"*6)\n",
    "        print(self.board[3] + '|' + self.board[4], \"|\" + self.board[5])\n",
    "        print(\"-\"*6)\n",
    "        print(self.board[6] + '|' + self.board[7], \"|\" + self.board[8])\n",
    "\n",
    "    def playerX(self, position):\n",
    "        if self.board[position] == \"\":\n",
    "            self.board[position] = \"X\"\n",
    "            if (self.board[0]==\"X\" and self.board[1]==\"X\" and self.board[2]==\"X\") or (self.board[3]==\"X\" and self.board[4]==\"X\" and self.board[5]==\"X\")or (self.board[6]==\"X\" and self.board[7]==\"X\" and self.board[8]==\"X\"):\n",
    "                TicTacToe.draw(self)\n",
    "                print(\"PlayerX WON!\")\n",
    "                self.board = [\"\", \"\", \"\", \"\", \"\", \"\", \"\", \"\", \"\"]\n",
    "            else:\n",
    "                TicTacToe.draw(self)\n",
    "        else:\n",
    "            print(\"Error: This position has already been taken! Try something else\")\n",
    "            TicTacToe.draw(self)\n",
    "        \n",
    "    def playerY(self, position):\n",
    "        if self.board[position] == \"\":\n",
    "            self.board[position] = \"Y\"\n",
    "            if (self.board[0]==\"Y\" and self.board[1]==\"Y\" and self.board[2]==\"Y\") or (self.board[3]==\"Y\" and self.board[4]==\"Y\" and self.board[5]==\"Y\") or (self.board[6]==\"Y\" and self.board[7]==\"Y\" and self.board[8]==\"Y\"):\n",
    "                TicTacToe.draw(self)\n",
    "                print(\"PlayerY WON!\")\n",
    "                self.board = [\"\", \"\", \"\", \"\", \"\", \"\", \"\", \"\", \"\"]\n",
    "            else:\n",
    "                TicTacToe.draw(self)\n",
    "\n",
    "        else:\n",
    "            print(\"Error: This position has already been taken! Try something else\")\n",
    "            TicTacToe.draw(self)\n",
    "       "
   ]
  },
  {
   "cell_type": "code",
   "execution_count": 13,
   "metadata": {},
   "outputs": [],
   "source": [
    "game = TicTacToe()"
   ]
  },
  {
   "cell_type": "code",
   "execution_count": 14,
   "metadata": {},
   "outputs": [
    {
     "name": "stdout",
     "output_type": "stream",
     "text": [
      "X| |\n",
      "------\n",
      "| |\n",
      "------\n",
      "| |\n"
     ]
    }
   ],
   "source": [
    "game.playerX(0)"
   ]
  },
  {
   "cell_type": "code",
   "execution_count": 15,
   "metadata": {},
   "outputs": [
    {
     "name": "stdout",
     "output_type": "stream",
     "text": [
      "X| |\n",
      "------\n",
      "|Y |\n",
      "------\n",
      "| |\n"
     ]
    }
   ],
   "source": [
    "game.playerY(4)"
   ]
  },
  {
   "cell_type": "code",
   "execution_count": 16,
   "metadata": {},
   "outputs": [
    {
     "name": "stdout",
     "output_type": "stream",
     "text": [
      "X| |X\n",
      "------\n",
      "|Y |\n",
      "------\n",
      "| |\n"
     ]
    }
   ],
   "source": [
    "game.playerX(2)"
   ]
  },
  {
   "cell_type": "code",
   "execution_count": 17,
   "metadata": {},
   "outputs": [
    {
     "name": "stdout",
     "output_type": "stream",
     "text": [
      "X|Y |X\n",
      "------\n",
      "|Y |\n",
      "------\n",
      "| |\n"
     ]
    }
   ],
   "source": [
    "game.playerY(1)"
   ]
  },
  {
   "cell_type": "code",
   "execution_count": 18,
   "metadata": {},
   "outputs": [
    {
     "name": "stdout",
     "output_type": "stream",
     "text": [
      "X|Y |X\n",
      "------\n",
      "|Y |\n",
      "------\n",
      "|X |\n"
     ]
    }
   ],
   "source": [
    "game.playerX(7)"
   ]
  },
  {
   "cell_type": "code",
   "execution_count": 19,
   "metadata": {},
   "outputs": [
    {
     "name": "stdout",
     "output_type": "stream",
     "text": [
      "X|Y |X\n",
      "------\n",
      "Y|Y |\n",
      "------\n",
      "|X |\n"
     ]
    }
   ],
   "source": [
    "game.playerY(3)"
   ]
  },
  {
   "cell_type": "code",
   "execution_count": 20,
   "metadata": {},
   "outputs": [
    {
     "name": "stdout",
     "output_type": "stream",
     "text": [
      "X|Y |X\n",
      "------\n",
      "Y|Y |\n",
      "------\n",
      "X|X |\n"
     ]
    }
   ],
   "source": [
    "game.playerX(6)"
   ]
  },
  {
   "cell_type": "code",
   "execution_count": 21,
   "metadata": {},
   "outputs": [
    {
     "name": "stdout",
     "output_type": "stream",
     "text": [
      "X|Y |X\n",
      "------\n",
      "Y|Y |Y\n",
      "------\n",
      "X|X |\n",
      "PlayerY WON!\n"
     ]
    }
   ],
   "source": [
    "game.playerY(5)"
   ]
  },
  {
   "cell_type": "code",
   "execution_count": null,
   "metadata": {},
   "outputs": [],
   "source": []
  },
  {
   "cell_type": "code",
   "execution_count": null,
   "metadata": {},
   "outputs": [],
   "source": []
  },
  {
   "cell_type": "code",
   "execution_count": null,
   "metadata": {},
   "outputs": [],
   "source": []
  },
  {
   "cell_type": "code",
   "execution_count": null,
   "metadata": {},
   "outputs": [],
   "source": []
  }
 ],
 "metadata": {
  "kernelspec": {
   "display_name": "Python 3",
   "language": "python",
   "name": "python3"
  },
  "language_info": {
   "codemirror_mode": {
    "name": "ipython",
    "version": 3
   },
   "file_extension": ".py",
   "mimetype": "text/x-python",
   "name": "python",
   "nbconvert_exporter": "python",
   "pygments_lexer": "ipython3",
   "version": "3.7.4"
  }
 },
 "nbformat": 4,
 "nbformat_minor": 2
}
